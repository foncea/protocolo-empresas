{
 "cells": [
  {
   "cell_type": "code",
   "execution_count": 36,
   "metadata": {},
   "outputs": [],
   "source": [
    "import pandas as pd\n",
    "from datetime import date"
   ]
  },
  {
   "cell_type": "code",
   "execution_count": 30,
   "metadata": {},
   "outputs": [],
   "source": [
    "data = pd.read_csv('input_1.csv', sep=';', encoding='latin-1')"
   ]
  },
  {
   "cell_type": "code",
   "execution_count": 31,
   "metadata": {},
   "outputs": [],
   "source": [
    "data['area_trabajo'] = 'isla_maipo'"
   ]
  },
  {
   "cell_type": "code",
   "execution_count": 33,
   "metadata": {},
   "outputs": [],
   "source": [
    "data['estado_inicial'] = 'random'\n",
    "data.loc[data['codigo'] == 'CS10687', 'estado_inicial'] = 'infeccioso'"
   ]
  },
  {
   "cell_type": "code",
   "execution_count": 17,
   "metadata": {},
   "outputs": [
    {
     "data": {
      "text/plain": [
       "array(['Administrativo', '12 horas - Día', '12 horas - Noche',\n",
       "       '12 horas - Día ', 'Fuera de planta', '12 horas - Licencia',\n",
       "       '12 horas - Noche ', '12 horas - Backup', '12 horas - Licencia ',\n",
       "       '12 Horas', '12 horas - Cuarentena '], dtype=object)"
      ]
     },
     "execution_count": 17,
     "metadata": {},
     "output_type": "execute_result"
    }
   ],
   "source": [
    "data['tipo_turno'].unique()"
   ]
  },
  {
   "cell_type": "code",
   "execution_count": 18,
   "metadata": {},
   "outputs": [],
   "source": [
    "data.loc[data['tipo_turno'] == '12 horas - Día', 'tipo_turno'] = '12 Horas - Dia'\n",
    "data.loc[data['tipo_turno'] == '12 horas - Día ', 'tipo_turno'] = '12 Horas - Dia'\n",
    "data.loc[data['tipo_turno'] == '12 horas - Noche ', 'tipo_turno'] = '12 Horas - Noche'\n",
    "data.loc[data['tipo_turno'] == '12 horas - Noche', 'tipo_turno'] = '12 Horas - Noche'\n",
    "data.loc[data['tipo_turno'] == '12 horas - Backup', 'tipo_turno'] = '12 Horas - Backup'\n",
    "data.loc[data['tipo_turno'] == '12 horas - Licencia ', 'tipo_turno'] = '12 Horas - Noche'\n",
    "data.loc[data['tipo_turno'] == '12 horas - Licencia', 'tipo_turno'] = '12 Horas - Dia'\n",
    "data.loc[data['tipo_turno'] == '12 horas - Cuarentena ', 'tipo_turno'] = '12 Horas - Backup'"
   ]
  },
  {
   "cell_type": "code",
   "execution_count": 19,
   "metadata": {},
   "outputs": [
    {
     "data": {
      "text/plain": [
       "array(['Administrativo', '12 Horas - Dia', '12 Horas - Noche',\n",
       "       'Fuera de planta', '12 Horas - Backup', '12 Horas'], dtype=object)"
      ]
     },
     "execution_count": 19,
     "metadata": {},
     "output_type": "execute_result"
    }
   ],
   "source": [
    "data['tipo_turno'].unique()"
   ]
  },
  {
   "cell_type": "code",
   "execution_count": 28,
   "metadata": {},
   "outputs": [],
   "source": [
    "data.to_csv('input_2.csv', index=False)"
   ]
  },
  {
   "cell_type": "code",
   "execution_count": 29,
   "metadata": {
    "scrolled": true
   },
   "outputs": [
    {
     "data": {
      "text/html": [
       "<div>\n",
       "<style scoped>\n",
       "    .dataframe tbody tr th:only-of-type {\n",
       "        vertical-align: middle;\n",
       "    }\n",
       "\n",
       "    .dataframe tbody tr th {\n",
       "        vertical-align: top;\n",
       "    }\n",
       "\n",
       "    .dataframe thead th {\n",
       "        text-align: right;\n",
       "    }\n",
       "</style>\n",
       "<table border=\"1\" class=\"dataframe\">\n",
       "  <thead>\n",
       "    <tr style=\"text-align: right;\">\n",
       "      <th></th>\n",
       "      <th>codigo</th>\n",
       "      <th>area_trabajo</th>\n",
       "      <th>tipo_turno</th>\n",
       "      <th>estado_inicial</th>\n",
       "    </tr>\n",
       "  </thead>\n",
       "  <tbody>\n",
       "    <tr>\n",
       "      <th>0</th>\n",
       "      <td>AA140695</td>\n",
       "      <td>isla_maipo</td>\n",
       "      <td>Administrativo</td>\n",
       "      <td>random</td>\n",
       "    </tr>\n",
       "    <tr>\n",
       "      <th>1</th>\n",
       "      <td>AA270684</td>\n",
       "      <td>isla_maipo</td>\n",
       "      <td>12 Horas - Dia</td>\n",
       "      <td>random</td>\n",
       "    </tr>\n",
       "    <tr>\n",
       "      <th>2</th>\n",
       "      <td>AA70375</td>\n",
       "      <td>isla_maipo</td>\n",
       "      <td>Administrativo</td>\n",
       "      <td>random</td>\n",
       "    </tr>\n",
       "    <tr>\n",
       "      <th>3</th>\n",
       "      <td>AC100795</td>\n",
       "      <td>isla_maipo</td>\n",
       "      <td>12 Horas - Noche</td>\n",
       "      <td>random</td>\n",
       "    </tr>\n",
       "    <tr>\n",
       "      <th>4</th>\n",
       "      <td>AC131292</td>\n",
       "      <td>isla_maipo</td>\n",
       "      <td>12 Horas - Dia</td>\n",
       "      <td>random</td>\n",
       "    </tr>\n",
       "    <tr>\n",
       "      <th>...</th>\n",
       "      <td>...</td>\n",
       "      <td>...</td>\n",
       "      <td>...</td>\n",
       "      <td>...</td>\n",
       "    </tr>\n",
       "    <tr>\n",
       "      <th>376</th>\n",
       "      <td>YB60793</td>\n",
       "      <td>isla_maipo</td>\n",
       "      <td>12 Horas - Noche</td>\n",
       "      <td>random</td>\n",
       "    </tr>\n",
       "    <tr>\n",
       "      <th>377</th>\n",
       "      <td>YC180187</td>\n",
       "      <td>isla_maipo</td>\n",
       "      <td>12 Horas - Dia</td>\n",
       "      <td>random</td>\n",
       "    </tr>\n",
       "    <tr>\n",
       "      <th>378</th>\n",
       "      <td>YD70393</td>\n",
       "      <td>isla_maipo</td>\n",
       "      <td>Administrativo</td>\n",
       "      <td>random</td>\n",
       "    </tr>\n",
       "    <tr>\n",
       "      <th>379</th>\n",
       "      <td>YM40584</td>\n",
       "      <td>isla_maipo</td>\n",
       "      <td>12 Horas - Dia</td>\n",
       "      <td>random</td>\n",
       "    </tr>\n",
       "    <tr>\n",
       "      <th>380</th>\n",
       "      <td>YR290684</td>\n",
       "      <td>isla_maipo</td>\n",
       "      <td>Administrativo</td>\n",
       "      <td>random</td>\n",
       "    </tr>\n",
       "  </tbody>\n",
       "</table>\n",
       "<p>381 rows × 4 columns</p>\n",
       "</div>"
      ],
      "text/plain": [
       "       codigo area_trabajo        tipo_turno estado_inicial\n",
       "0    AA140695   isla_maipo    Administrativo         random\n",
       "1    AA270684   isla_maipo    12 Horas - Dia         random\n",
       "2     AA70375   isla_maipo    Administrativo         random\n",
       "3    AC100795   isla_maipo  12 Horas - Noche         random\n",
       "4    AC131292   isla_maipo    12 Horas - Dia         random\n",
       "..        ...          ...               ...            ...\n",
       "376   YB60793   isla_maipo  12 Horas - Noche         random\n",
       "377  YC180187   isla_maipo    12 Horas - Dia         random\n",
       "378   YD70393   isla_maipo    Administrativo         random\n",
       "379   YM40584   isla_maipo    12 Horas - Dia         random\n",
       "380  YR290684   isla_maipo    Administrativo         random\n",
       "\n",
       "[381 rows x 4 columns]"
      ]
     },
     "execution_count": 29,
     "metadata": {},
     "output_type": "execute_result"
    }
   ],
   "source": [
    "pd.read_csv('input_2.csv')"
   ]
  },
  {
   "cell_type": "code",
   "execution_count": 39,
   "metadata": {},
   "outputs": [],
   "source": [
    "data = pd.read_csv('input_1.csv', sep=';', encoding='latin-1')\n",
    "data['area_trabajo'] = 'isla_maipo'\n",
    "data['estado_inicial'] = 'random'\n",
    "\n",
    "data.loc[data['tipo_turno'] == '12 horas - Día', 'tipo_turno'] = '12 Horas - Dia'\n",
    "data.loc[data['tipo_turno'] == '12 horas - Día ', 'tipo_turno'] = '12 Horas - Dia'\n",
    "data.loc[data['tipo_turno'] == '12 horas - Noche ', 'tipo_turno'] = '12 Horas - Noche'\n",
    "data.loc[data['tipo_turno'] == '12 horas - Noche', 'tipo_turno'] = '12 Horas - Noche'\n",
    "data.loc[data['tipo_turno'] == '12 horas - Backup', 'tipo_turno'] = '12 Horas - Backup'\n",
    "data.loc[data['tipo_turno'] == '12 horas - Licencia ', 'tipo_turno'] = '12 Horas - Noche'\n",
    "data.loc[data['tipo_turno'] == '12 horas - Licencia', 'tipo_turno'] = '12 Horas - Dia'\n",
    "data.loc[data['tipo_turno'] == '12 horas - Cuarentena ', 'tipo_turno'] = '12 Horas - Backup'"
   ]
  },
  {
   "cell_type": "code",
   "execution_count": 40,
   "metadata": {},
   "outputs": [],
   "source": [
    "test_ac_pos = {'FB30780': 'random_pos',\n",
    "               'JV211195': 'random_pos'\n",
    "}  \n",
    "for codigo in test_ac_pos:\n",
    "    if test_ac_pos[codigo] == 'random_pos':\n",
    "        data.loc[data['codigo'] == codigo, 'estado_inicial'] = 'infeccioso'"
   ]
  },
  {
   "cell_type": "code",
   "execution_count": 42,
   "metadata": {},
   "outputs": [],
   "source": [
    "data.to_csv('input_3.csv', index=False)"
   ]
  },
  {
   "cell_type": "code",
   "execution_count": null,
   "metadata": {},
   "outputs": [],
   "source": []
  }
 ],
 "metadata": {
  "kernelspec": {
   "display_name": "Python 3",
   "language": "python",
   "name": "python3"
  },
  "language_info": {
   "codemirror_mode": {
    "name": "ipython",
    "version": 3
   },
   "file_extension": ".py",
   "mimetype": "text/x-python",
   "name": "python",
   "nbconvert_exporter": "python",
   "pygments_lexer": "ipython3",
   "version": "3.8.2"
  }
 },
 "nbformat": 4,
 "nbformat_minor": 4
}
